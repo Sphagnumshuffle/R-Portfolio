{
 "cells": [
  {
   "cell_type": "markdown",
   "metadata": {},
   "source": [
    "# Text analysis Part 1: Explanatory Data Analysis a.k.a EDA"
   ]
  },
  {
   "cell_type": "markdown",
   "metadata": {},
   "source": [
    "This is the first part of my text analysis and my goal here is to explore dataset and get some insights from it before we dive to the deep end and use Machine Learning algorithms to analyse it. EDA is a crucial part after preprocessing the data in order to catch some weird things that may appear in the data. I'm using here the ham/spam dataset which consists of different text messages and labels that define if the messages are spam or decent mail. So let's get started!"
   ]
  },
  {
   "cell_type": "markdown",
   "metadata": {},
   "source": [
    "First let's read in the data and activate some packages needed in this notebook. If you wanna run this on your own PC/notebook, make sure that it is in the same folder as this jupyter notebook. And if you don't have necessary R packages installed install them by using command install.packages() --> for example package dplyr;"
   ]
  },
  {
   "cell_type": "code",
   "execution_count": 104,
   "metadata": {},
   "outputs": [],
   "source": [
    "#install.packages('dplyr') "
   ]
  },
  {
   "cell_type": "markdown",
   "metadata": {},
   "source": [
    "Now, let's get most of those needed packages:"
   ]
  },
  {
   "cell_type": "code",
   "execution_count": 105,
   "metadata": {},
   "outputs": [],
   "source": [
    "library(readr)\n",
    "library(tm)\n",
    "library(SnowballC)\n",
    "library(MLmetrics)\n",
    "library(dplyr)\n",
    "library(stringr)\n",
    "library(tidytext)\n",
    "library(ggplot2)\n",
    "library(Amelia)"
   ]
  },
  {
   "cell_type": "markdown",
   "metadata": {},
   "source": [
    "And now let's read in the data that is located in the same folder as this notebook, so that it is super easy to import:"
   ]
  },
  {
   "cell_type": "code",
   "execution_count": 106,
   "metadata": {
    "collapsed": true
   },
   "outputs": [
    {
     "name": "stderr",
     "output_type": "stream",
     "text": [
      "Warning message:\n",
      "\"Missing column names filled in: 'X3' [3], 'X4' [4], 'X5' [5]\"Parsed with column specification:\n",
      "cols(\n",
      "  v1 = col_character(),\n",
      "  v2 = col_character(),\n",
      "  X3 = col_character(),\n",
      "  X4 = col_character(),\n",
      "  X5 = col_character()\n",
      ")\n"
     ]
    }
   ],
   "source": [
    "df <- read_csv(\"spam.csv\")\n",
    "df <- df[,1:2]\n",
    "\n",
    "colnames(df) <- c(\"label\", \"msg\") #Here we rename columns \n",
    "df$label <- as.factor(df$label) #And here we convert label column to factor in order to categorize our data\n",
    "\n",
    "\n"
   ]
  },
  {
   "cell_type": "markdown",
   "metadata": {},
   "source": [
    "Let's take a look how our labels are divided between spam emails and decent emails:"
   ]
  },
  {
   "cell_type": "code",
   "execution_count": 107,
   "metadata": {},
   "outputs": [],
   "source": [
    "library(repr)\n",
    "options(repr.plot.width=5, repr.plot.height=4) #Here we make the plot smaller"
   ]
  },
  {
   "cell_type": "code",
   "execution_count": 108,
   "metadata": {},
   "outputs": [
    {
     "data": {
      "text/plain": [
       "\n",
       " ham spam \n",
       "4825  747 "
      ]
     },
     "metadata": {},
     "output_type": "display_data"
    },
    {
     "data": {},
     "metadata": {},
     "output_type": "display_data"
    },
    {
     "data": {
      "image/png": "[encoded data removed]",
      "text/plain": [
       "plot without title"
      ]
     },
     "metadata": {},
     "output_type": "display_data"
    }
   ],
   "source": [
    "table(df$label)\n",
    "ggplot(df, aes(label)) + geom_bar()"
   ]
  },
  {
   "cell_type": "markdown",
   "metadata": {},
   "source": [
    "Let's check if we have any missing values:"
   ]
  },
  {
   "cell_type": "code",
   "execution_count": 109,
   "metadata": {},
   "outputs": [
    {
     "data": {
      "text/html": [
       "0"
      ],
      "text/latex": [
       "0"
      ],
      "text/markdown": [
       "0"
      ],
      "text/plain": [
       "[1] 0"
      ]
     },
     "metadata": {},
     "output_type": "display_data"
    }
   ],
   "source": [
    "sum(is.na(df)) "
   ]
  },
  {
   "cell_type": "markdown",
   "metadata": {},
   "source": [
    "No missing data, great! Now we can move on to preprocessing the data"
   ]
  },
  {
   "cell_type": "markdown",
   "metadata": {},
   "source": [
    "## Data Preprocessing"
   ]
  },
  {
   "cell_type": "markdown",
   "metadata": {},
   "source": [
    "First let's fix the encoding and after that we transform our msg-column to Vcorpus (collection of documents, in this case collection of all messages)"
   ]
  },
  {
   "cell_type": "code",
   "execution_count": 110,
   "metadata": {},
   "outputs": [],
   "source": [
    "df$msg <- str_replace_all(df$msg,\"[^[:graph:]]\", \" \") #Fixes encoding\n",
    "corpus = VCorpus(VectorSource(df$msg))"
   ]
  },
  {
   "cell_type": "markdown",
   "metadata": {},
   "source": [
    "Then we process the corpus so that we transform all letters in messages to lowercase, remove numbers and punctuation, remove common stopwords in english, stem documents and lastly we strip whitespaces"
   ]
  },
  {
   "cell_type": "code",
   "execution_count": 111,
   "metadata": {},
   "outputs": [
    {
     "data": {
      "text/html": [
       "'anyway can just go gym whatev love smile hope ok good day babe miss much alreadi'"
      ],
      "text/latex": [
       "'anyway can just go gym whatev love smile hope ok good day babe miss much alreadi'"
      ],
      "text/markdown": [
       "'anyway can just go gym whatev love smile hope ok good day babe miss much alreadi'"
      ],
      "text/plain": [
       "[1] \"anyway can just go gym whatev love smile hope ok good day babe miss much alreadi\""
      ]
     },
     "metadata": {},
     "output_type": "display_data"
    }
   ],
   "source": [
    "corpus = tm_map(corpus, content_transformer(tolower)) #All letters to lowercase\n",
    "corpus = tm_map(corpus, removeNumbers) #Numbers off\n",
    "corpus = tm_map(corpus, removePunctuation) #Remove punctuation\n",
    "corpus = tm_map(corpus, removeWords, stopwords()) #Remove stopwords (default in english)\n",
    "corpus = tm_map(corpus, stemDocument) #Stem words --> \n",
    "corpus = tm_map(corpus, stripWhitespace) #Remove excessive whitespaces\n",
    "\n",
    "as.character(corpus[[568]])"
   ]
  },
  {
   "cell_type": "markdown",
   "metadata": {},
   "source": [
    "Okay, this is starting to look good! Next we transform our corpus to Document Term Matrix (DTM) which mean that every row is one document in corpus and columns are frequencies of words that appear in corpus documents. "
   ]
  },
  {
   "cell_type": "code",
   "execution_count": 112,
   "metadata": {},
   "outputs": [
    {
     "data": {
      "text/html": [
       "<ol class=list-inline>\n",
       "\t<li>5572</li>\n",
       "\t<li>1207</li>\n",
       "</ol>\n"
      ],
      "text/latex": [
       "\\begin{enumerate*}\n",
       "\\item 5572\n",
       "\\item 1207\n",
       "\\end{enumerate*}\n"
      ],
      "text/markdown": [
       "1. 5572\n",
       "2. 1207\n",
       "\n",
       "\n"
      ],
      "text/plain": [
       "[1] 5572 1207"
      ]
     },
     "metadata": {},
     "output_type": "display_data"
    }
   ],
   "source": [
    "dtm = DocumentTermMatrix(corpus)\n",
    "dtm = removeSparseTerms(dtm, 0.999) #Here we retain 99,9% of the most common words\n",
    "dataset = as.data.frame(as.matrix(dtm)) #In order to fit model to this dataset we need to transform it to data frame\n",
    "\n",
    "#Also let's add target labels to the data frame:\n",
    "\n",
    "dataset$label = df$label\n",
    "dataset$label = as.factor(df$label)\n",
    "dim(dataset)\n",
    "dataset <- dataset[,5:1202]"
   ]
  },
  {
   "cell_type": "code",
   "execution_count": 113,
   "metadata": {},
   "outputs": [
    {
     "data": {
      "text/html": [
       "<table>\n",
       "<thead><tr><th scope=col>abiola</th><th scope=col>abl</th><th scope=col>abt</th><th scope=col>accept</th><th scope=col>access</th><th scope=col>account</th><th scope=col>across</th><th scope=col>activ</th><th scope=col>actual</th><th scope=col>add</th><th scope=col>...</th><th scope=col>yep</th><th scope=col>yes</th><th scope=col>yest</th><th scope=col>yesterday</th><th scope=col>yet</th><th scope=col>yiju</th><th scope=col>yoga</th><th scope=col>youd</th><th scope=col>youll</th><th scope=col>your</th></tr></thead>\n",
       "<tbody>\n",
       "\t<tr><td>0  </td><td>0  </td><td>0  </td><td>0  </td><td>0  </td><td>0  </td><td>0  </td><td>0  </td><td>0  </td><td>0  </td><td>...</td><td>0  </td><td>0  </td><td>0  </td><td>0  </td><td>0  </td><td>0  </td><td>0  </td><td>0  </td><td>0  </td><td>0  </td></tr>\n",
       "\t<tr><td>0  </td><td>0  </td><td>0  </td><td>0  </td><td>0  </td><td>0  </td><td>0  </td><td>0  </td><td>0  </td><td>0  </td><td>...</td><td>0  </td><td>0  </td><td>0  </td><td>0  </td><td>0  </td><td>0  </td><td>0  </td><td>0  </td><td>0  </td><td>0  </td></tr>\n",
       "\t<tr><td>0  </td><td>0  </td><td>0  </td><td>0  </td><td>0  </td><td>0  </td><td>0  </td><td>0  </td><td>0  </td><td>0  </td><td>...</td><td>0  </td><td>0  </td><td>0  </td><td>0  </td><td>0  </td><td>0  </td><td>0  </td><td>0  </td><td>0  </td><td>0  </td></tr>\n",
       "\t<tr><td>0  </td><td>0  </td><td>0  </td><td>0  </td><td>0  </td><td>0  </td><td>0  </td><td>0  </td><td>0  </td><td>0  </td><td>...</td><td>0  </td><td>0  </td><td>0  </td><td>0  </td><td>0  </td><td>0  </td><td>0  </td><td>0  </td><td>0  </td><td>0  </td></tr>\n",
       "\t<tr><td>0  </td><td>0  </td><td>0  </td><td>0  </td><td>0  </td><td>0  </td><td>0  </td><td>0  </td><td>0  </td><td>0  </td><td>...</td><td>0  </td><td>0  </td><td>0  </td><td>0  </td><td>0  </td><td>0  </td><td>0  </td><td>0  </td><td>0  </td><td>0  </td></tr>\n",
       "\t<tr><td>0  </td><td>0  </td><td>0  </td><td>0  </td><td>0  </td><td>0  </td><td>0  </td><td>0  </td><td>0  </td><td>0  </td><td>...</td><td>0  </td><td>0  </td><td>0  </td><td>0  </td><td>0  </td><td>0  </td><td>0  </td><td>0  </td><td>0  </td><td>0  </td></tr>\n",
       "</tbody>\n",
       "</table>\n"
      ],
      "text/latex": [
       "\\begin{tabular}{r|llllllllllllllllllllllllllllllllllllllllllllllllllllllllllllllllllllllllllllllllllllllllllllllllllllllllllllllllllllllllllllllllllllllllllllllllllllllllllllllllllllllllllllllllllllllllllllllllllllllllllllllllllllllllllllllllllllllllllllllllllllllllllllllllllllllllllllllllllllllllllllllllllllllllllllllllllllllllllllllllllllllllllllllllllllllllllllllllllllllllllllllllllllllllllllllllllllllllllllllllllllllllllllllllllllllllllllllllllllllllllllllllllllllllllllllllllllllllllllllllllllllllllllllllllllllllllllllllllllllllllllllllllllllllllllllllllllllllllllllllllllllllllllllllllllllllllllllllllllllllllllllllllllllllllllllllllllllllllllllllllllllllllllllllllllllllllllllllllllllllllllllllllllllllllllllllllllllllllllllllllllllllllllllllllllllllllllllllllllllllllllllllllllllllllllllllllllllllllllllllllllllllllllllllllllllllllllllllllllllllllllllllllllllllllllllllllllllllllllllllllllllllllllllllllllllllllllllllllllllllllllllllllllllllllllllllllllllllllllllllllllllllllllllllllllllllllllllllllllllllllllllllllllllllllllllllllllllllllllllllllllllllllllllllllllllllllllllllllllllllllllllllllllllllllllllllllllllllllllllllllllllllllllllllllllllllllllllllllllllllllllllllllllllllllllllllllllllllllllll}\n",
       " abiola & abl & abt & accept & access & account & across & activ & actual & add & ... & yep & yes & yest & yesterday & yet & yiju & yoga & youd & youll & your\\\\\n",
       "\\hline\n",
       "\t 0   & 0   & 0   & 0   & 0   & 0   & 0   & 0   & 0   & 0   & ... & 0   & 0   & 0   & 0   & 0   & 0   & 0   & 0   & 0   & 0  \\\\\n",
       "\t 0   & 0   & 0   & 0   & 0   & 0   & 0   & 0   & 0   & 0   & ... & 0   & 0   & 0   & 0   & 0   & 0   & 0   & 0   & 0   & 0  \\\\\n",
       "\t 0   & 0   & 0   & 0   & 0   & 0   & 0   & 0   & 0   & 0   & ... & 0   & 0   & 0   & 0   & 0   & 0   & 0   & 0   & 0   & 0  \\\\\n",
       "\t 0   & 0   & 0   & 0   & 0   & 0   & 0   & 0   & 0   & 0   & ... & 0   & 0   & 0   & 0   & 0   & 0   & 0   & 0   & 0   & 0  \\\\\n",
       "\t 0   & 0   & 0   & 0   & 0   & 0   & 0   & 0   & 0   & 0   & ... & 0   & 0   & 0   & 0   & 0   & 0   & 0   & 0   & 0   & 0  \\\\\n",
       "\t 0   & 0   & 0   & 0   & 0   & 0   & 0   & 0   & 0   & 0   & ... & 0   & 0   & 0   & 0   & 0   & 0   & 0   & 0   & 0   & 0  \\\\\n",
       "\\end{tabular}\n"
      ],
      "text/markdown": [
       "\n",
       "abiola | abl | abt | accept | access | account | across | activ | actual | add | ... | yep | yes | yest | yesterday | yet | yiju | yoga | youd | youll | your | \n",
       "|---|---|---|---|---|---|\n",
       "| 0   | 0   | 0   | 0   | 0   | 0   | 0   | 0   | 0   | 0   | ... | 0   | 0   | 0   | 0   | 0   | 0   | 0   | 0   | 0   | 0   | \n",
       "| 0   | 0   | 0   | 0   | 0   | 0   | 0   | 0   | 0   | 0   | ... | 0   | 0   | 0   | 0   | 0   | 0   | 0   | 0   | 0   | 0   | \n",
       "| 0   | 0   | 0   | 0   | 0   | 0   | 0   | 0   | 0   | 0   | ... | 0   | 0   | 0   | 0   | 0   | 0   | 0   | 0   | 0   | 0   | \n",
       "| 0   | 0   | 0   | 0   | 0   | 0   | 0   | 0   | 0   | 0   | ... | 0   | 0   | 0   | 0   | 0   | 0   | 0   | 0   | 0   | 0   | \n",
       "| 0   | 0   | 0   | 0   | 0   | 0   | 0   | 0   | 0   | 0   | ... | 0   | 0   | 0   | 0   | 0   | 0   | 0   | 0   | 0   | 0   | \n",
       "| 0   | 0   | 0   | 0   | 0   | 0   | 0   | 0   | 0   | 0   | ... | 0   | 0   | 0   | 0   | 0   | 0   | 0   | 0   | 0   | 0   | \n",
       "\n",
       "\n"
      ],
      "text/plain": [
       "  abiola abl abt accept access account across activ actual add ... yep yes yest\n",
       "1 0      0   0   0      0      0       0      0     0      0   ... 0   0   0   \n",
       "2 0      0   0   0      0      0       0      0     0      0   ... 0   0   0   \n",
       "3 0      0   0   0      0      0       0      0     0      0   ... 0   0   0   \n",
       "4 0      0   0   0      0      0       0      0     0      0   ... 0   0   0   \n",
       "5 0      0   0   0      0      0       0      0     0      0   ... 0   0   0   \n",
       "6 0      0   0   0      0      0       0      0     0      0   ... 0   0   0   \n",
       "  yesterday yet yiju yoga youd youll your\n",
       "1 0         0   0    0    0    0     0   \n",
       "2 0         0   0    0    0    0     0   \n",
       "3 0         0   0    0    0    0     0   \n",
       "4 0         0   0    0    0    0     0   \n",
       "5 0         0   0    0    0    0     0   \n",
       "6 0         0   0    0    0    0     0   "
      ]
     },
     "metadata": {},
     "output_type": "display_data"
    }
   ],
   "source": [
    "head(dataset)"
   ]
  },
  {
   "cell_type": "markdown",
   "metadata": {},
   "source": [
    "Sweet, looks good! Here we see dataframe where evey row corresponds to single msg in the dataset. Columns are frequencies for words and how many times they appear in that particular document. Last row is the label; ham = decent email and spam = spam mail"
   ]
  },
  {
   "cell_type": "markdown",
   "metadata": {},
   "source": [
    "Next step is to separate words from each other and count how many times they appear in corpus (collection of all documents and in this case collection of all messages). "
   ]
  },
  {
   "cell_type": "code",
   "execution_count": 114,
   "metadata": {},
   "outputs": [
    {
     "data": {
      "text/html": [
       "<table>\n",
       "<thead><tr><th scope=col>label</th><th scope=col>word</th><th scope=col>n</th></tr></thead>\n",
       "<tbody>\n",
       "\t<tr><td>ham </td><td>i   </td><td>2253</td></tr>\n",
       "\t<tr><td>ham </td><td>you </td><td>1856</td></tr>\n",
       "\t<tr><td>ham </td><td>to  </td><td>1554</td></tr>\n",
       "\t<tr><td>ham </td><td>the </td><td>1121</td></tr>\n",
       "\t<tr><td>ham </td><td>a   </td><td>1057</td></tr>\n",
       "\t<tr><td>ham </td><td>u   </td><td>1000</td></tr>\n",
       "</tbody>\n",
       "</table>\n"
      ],
      "text/latex": [
       "\\begin{tabular}{r|lll}\n",
       " label & word & n\\\\\n",
       "\\hline\n",
       "\t ham  & i    & 2253\\\\\n",
       "\t ham  & you  & 1856\\\\\n",
       "\t ham  & to   & 1554\\\\\n",
       "\t ham  & the  & 1121\\\\\n",
       "\t ham  & a    & 1057\\\\\n",
       "\t ham  & u    & 1000\\\\\n",
       "\\end{tabular}\n"
      ],
      "text/markdown": [
       "\n",
       "label | word | n | \n",
       "|---|---|---|---|---|---|\n",
       "| ham  | i    | 2253 | \n",
       "| ham  | you  | 1856 | \n",
       "| ham  | to   | 1554 | \n",
       "| ham  | the  | 1121 | \n",
       "| ham  | a    | 1057 | \n",
       "| ham  | u    | 1000 | \n",
       "\n",
       "\n"
      ],
      "text/plain": [
       "  label word n   \n",
       "1 ham   i    2253\n",
       "2 ham   you  1856\n",
       "3 ham   to   1554\n",
       "4 ham   the  1121\n",
       "5 ham   a    1057\n",
       "6 ham   u    1000"
      ]
     },
     "metadata": {},
     "output_type": "display_data"
    }
   ],
   "source": [
    "msg_words <- df %>%\n",
    "  unnest_tokens(word, msg) %>%\n",
    "  count(label, word, sort=T) %>%\n",
    "  ungroup()\n",
    "\n",
    "head(msg_words)"
   ]
  },
  {
   "cell_type": "markdown",
   "metadata": {},
   "source": [
    "Here we see that our msg_words contains words, how many times they appeared in corpus (n) and corresponding label to that word. So label ham means that word with label ham most likely belong to class ham. Lets see how many words appeared in those ham/spam classes:"
   ]
  },
  {
   "cell_type": "code",
   "execution_count": 115,
   "metadata": {},
   "outputs": [
    {
     "data": {
      "text/html": [
       "<table>\n",
       "<thead><tr><th scope=col>label</th><th scope=col>total</th></tr></thead>\n",
       "<tbody>\n",
       "\t<tr><td>ham  </td><td>68602</td></tr>\n",
       "\t<tr><td>spam </td><td>18440</td></tr>\n",
       "</tbody>\n",
       "</table>\n"
      ],
      "text/latex": [
       "\\begin{tabular}{r|ll}\n",
       " label & total\\\\\n",
       "\\hline\n",
       "\t ham   & 68602\\\\\n",
       "\t spam  & 18440\\\\\n",
       "\\end{tabular}\n"
      ],
      "text/markdown": [
       "\n",
       "label | total | \n",
       "|---|---|\n",
       "| ham   | 68602 | \n",
       "| spam  | 18440 | \n",
       "\n",
       "\n"
      ],
      "text/plain": [
       "  label total\n",
       "1 ham   68602\n",
       "2 spam  18440"
      ]
     },
     "metadata": {},
     "output_type": "display_data"
    }
   ],
   "source": [
    "msg_words_total <- msg_words %>%\n",
    "  group_by(label) %>%\n",
    "  summarize(total = sum(n))\n",
    "\n",
    "head(msg_words_total)"
   ]
  },
  {
   "cell_type": "markdown",
   "metadata": {},
   "source": [
    "Let's combine two previous dataframes:"
   ]
  },
  {
   "cell_type": "code",
   "execution_count": 116,
   "metadata": {},
   "outputs": [
    {
     "name": "stderr",
     "output_type": "stream",
     "text": [
      "Joining, by = \"label\"\n"
     ]
    },
    {
     "data": {
      "text/html": [
       "<table>\n",
       "<thead><tr><th scope=col>label</th><th scope=col>word</th><th scope=col>n</th><th scope=col>total</th></tr></thead>\n",
       "<tbody>\n",
       "\t<tr><td>ham  </td><td>i    </td><td>2253 </td><td>68602</td></tr>\n",
       "\t<tr><td>ham  </td><td>you  </td><td>1856 </td><td>68602</td></tr>\n",
       "\t<tr><td>ham  </td><td>to   </td><td>1554 </td><td>68602</td></tr>\n",
       "\t<tr><td>ham  </td><td>the  </td><td>1121 </td><td>68602</td></tr>\n",
       "\t<tr><td>ham  </td><td>a    </td><td>1057 </td><td>68602</td></tr>\n",
       "\t<tr><td>ham  </td><td>u    </td><td>1000 </td><td>68602</td></tr>\n",
       "</tbody>\n",
       "</table>\n"
      ],
      "text/latex": [
       "\\begin{tabular}{r|llll}\n",
       " label & word & n & total\\\\\n",
       "\\hline\n",
       "\t ham   & i     & 2253  & 68602\\\\\n",
       "\t ham   & you   & 1856  & 68602\\\\\n",
       "\t ham   & to    & 1554  & 68602\\\\\n",
       "\t ham   & the   & 1121  & 68602\\\\\n",
       "\t ham   & a     & 1057  & 68602\\\\\n",
       "\t ham   & u     & 1000  & 68602\\\\\n",
       "\\end{tabular}\n"
      ],
      "text/markdown": [
       "\n",
       "label | word | n | total | \n",
       "|---|---|---|---|---|---|\n",
       "| ham   | i     | 2253  | 68602 | \n",
       "| ham   | you   | 1856  | 68602 | \n",
       "| ham   | to    | 1554  | 68602 | \n",
       "| ham   | the   | 1121  | 68602 | \n",
       "| ham   | a     | 1057  | 68602 | \n",
       "| ham   | u     | 1000  | 68602 | \n",
       "\n",
       "\n"
      ],
      "text/plain": [
       "  label word n    total\n",
       "1 ham   i    2253 68602\n",
       "2 ham   you  1856 68602\n",
       "3 ham   to   1554 68602\n",
       "4 ham   the  1121 68602\n",
       "5 ham   a    1057 68602\n",
       "6 ham   u    1000 68602"
      ]
     },
     "metadata": {},
     "output_type": "display_data"
    }
   ],
   "source": [
    "msg_words <- left_join(msg_words, msg_words_total)\n",
    "\n",
    "head(msg_words)"
   ]
  },
  {
   "cell_type": "markdown",
   "metadata": {},
   "source": [
    "Now it's time to plot our data. I'm using the allmighty ggplot2 to plot my figures. I'll start by plotting the graph that shows number of times a word appears in the spam or ham messages and divide that by the total number of words in ham or spam messages. Here we can see that these graphs have long tail which indicates that many words appear rarely and fewer words appear more frequently"
   ]
  },
  {
   "cell_type": "code",
   "execution_count": 117,
   "metadata": {},
   "outputs": [
    {
     "name": "stderr",
     "output_type": "stream",
     "text": [
      "`stat_bin()` using `bins = 30`. Pick better value with `binwidth`.\n",
      "Warning message:\n",
      "\"Removed 366 rows containing non-finite values (stat_bin).\""
     ]
    },
    {
     "data": {},
     "metadata": {},
     "output_type": "display_data"
    },
    {
     "data": {
      "image/png": "[encoded data removed]",
      "text/plain": [
       "plot without title"
      ]
     },
     "metadata": {},
     "output_type": "display_data"
    }
   ],
   "source": [
    "ggplot(msg_words, aes(n/total, fill = label)) +\n",
    "  geom_histogram(show.legend = T) +\n",
    "  xlim(NA, 0.0009) +\n",
    "  facet_wrap(~label, ncol = 2, scales = \"free_y\")\n"
   ]
  },
  {
   "cell_type": "markdown",
   "metadata": {},
   "source": [
    "Now we are going to use TF-IDF in order to find the important words in each document. TF-IDF is weighted function, so that weight is decreased for words that appera commonly in corpus and weight in increased to words that appear rarely in corpus. This way we can find important words to our spam and ham mesages."
   ]
  },
  {
   "cell_type": "code",
   "execution_count": 118,
   "metadata": {},
   "outputs": [
    {
     "data": {
      "text/html": [
       "<table>\n",
       "<thead><tr><th scope=col>label</th><th scope=col>word</th><th scope=col>n</th><th scope=col>tf</th><th scope=col>idf</th><th scope=col>tf_idf</th></tr></thead>\n",
       "<tbody>\n",
       "\t<tr><td>spam       </td><td>claim      </td><td>113        </td><td>0.006127983</td><td>0.6931472  </td><td>0.004247594</td></tr>\n",
       "\t<tr><td>spam       </td><td>prize      </td><td> 92        </td><td>0.004989154</td><td>0.6931472  </td><td>0.003458218</td></tr>\n",
       "\t<tr><td>ham        </td><td>gt         </td><td>318        </td><td>0.004635433</td><td>0.6931472  </td><td>0.003213038</td></tr>\n",
       "\t<tr><td>ham        </td><td>lt         </td><td>316        </td><td>0.004606280</td><td>0.6931472  </td><td>0.003192830</td></tr>\n",
       "\t<tr><td>spam       </td><td>won        </td><td> 73        </td><td>0.003958785</td><td>0.6931472  </td><td>0.002744021</td></tr>\n",
       "\t<tr><td>spam       </td><td>150p       </td><td> 71        </td><td>0.003850325</td><td>0.6931472  </td><td>0.002668842</td></tr>\n",
       "</tbody>\n",
       "</table>\n"
      ],
      "text/latex": [
       "\\begin{tabular}{r|llllll}\n",
       " label & word & n & tf & idf & tf\\_idf\\\\\n",
       "\\hline\n",
       "\t spam        & claim       & 113         & 0.006127983 & 0.6931472   & 0.004247594\\\\\n",
       "\t spam        & prize       &  92         & 0.004989154 & 0.6931472   & 0.003458218\\\\\n",
       "\t ham         & gt          & 318         & 0.004635433 & 0.6931472   & 0.003213038\\\\\n",
       "\t ham         & lt          & 316         & 0.004606280 & 0.6931472   & 0.003192830\\\\\n",
       "\t spam        & won         &  73         & 0.003958785 & 0.6931472   & 0.002744021\\\\\n",
       "\t spam        & 150p        &  71         & 0.003850325 & 0.6931472   & 0.002668842\\\\\n",
       "\\end{tabular}\n"
      ],
      "text/markdown": [
       "\n",
       "label | word | n | tf | idf | tf_idf | \n",
       "|---|---|---|---|---|---|\n",
       "| spam        | claim       | 113         | 0.006127983 | 0.6931472   | 0.004247594 | \n",
       "| spam        | prize       |  92         | 0.004989154 | 0.6931472   | 0.003458218 | \n",
       "| ham         | gt          | 318         | 0.004635433 | 0.6931472   | 0.003213038 | \n",
       "| ham         | lt          | 316         | 0.004606280 | 0.6931472   | 0.003192830 | \n",
       "| spam        | won         |  73         | 0.003958785 | 0.6931472   | 0.002744021 | \n",
       "| spam        | 150p        |  71         | 0.003850325 | 0.6931472   | 0.002668842 | \n",
       "\n",
       "\n"
      ],
      "text/plain": [
       "  label word  n   tf          idf       tf_idf     \n",
       "1 spam  claim 113 0.006127983 0.6931472 0.004247594\n",
       "2 spam  prize  92 0.004989154 0.6931472 0.003458218\n",
       "3 ham   gt    318 0.004635433 0.6931472 0.003213038\n",
       "4 ham   lt    316 0.004606280 0.6931472 0.003192830\n",
       "5 spam  won    73 0.003958785 0.6931472 0.002744021\n",
       "6 spam  150p   71 0.003850325 0.6931472 0.002668842"
      ]
     },
     "metadata": {},
     "output_type": "display_data"
    }
   ],
   "source": [
    "msg_words <- msg_words %>%\n",
    "  bind_tf_idf(word, label, n)\n",
    "\n",
    "msg_words <- msg_words %>%\n",
    "  select(-total) %>%\n",
    "  arrange(desc(tf_idf))\n",
    "\n",
    "head(msg_words)"
   ]
  },
  {
   "cell_type": "markdown",
   "metadata": {},
   "source": [
    "Now let's plot this and see 15 most important words for each class (ham and spam):"
   ]
  },
  {
   "cell_type": "code",
   "execution_count": 119,
   "metadata": {},
   "outputs": [
    {
     "name": "stderr",
     "output_type": "stream",
     "text": [
      "Selecting by tf_idf\n"
     ]
    },
    {
     "data": {},
     "metadata": {},
     "output_type": "display_data"
    },
    {
     "data": {
      "image/png": "[encoded data removed]",
      "text/plain": [
       "plot without title"
      ]
     },
     "metadata": {},
     "output_type": "display_data"
    }
   ],
   "source": [
    "tf_idf_plot <- msg_words %>%\n",
    "  arrange(desc(tf_idf)) %>%\n",
    "  mutate(word = factor(word, levels = rev(unique(word)))) %>%\n",
    "  group_by(label) %>%\n",
    "  top_n(15) %>%\n",
    "  ungroup() %>%\n",
    "  ggplot(aes(word, tf_idf, fill = label)) +\n",
    "  geom_col(show.legend = FALSE) + \n",
    "  labs(x = NULL, y = \"tf-idf\") +\n",
    "  facet_wrap(~label, ncol = 2, scales = \"free\") +\n",
    "  coord_flip()\n",
    "\n",
    "tf_idf_plot"
   ]
  },
  {
   "cell_type": "markdown",
   "metadata": {},
   "source": [
    "Now, a quick glance shows us that claim and prize are most important words in the spam class which is of course intuitive observation. There are many quite short words in the ham mesages but maybe they are some abbrevations of common english words (I'm from Finland, english isn't my native language). But let us proceed to the next step"
   ]
  },
  {
   "cell_type": "markdown",
   "metadata": {},
   "source": [
    "## Create bigrams and visualize them"
   ]
  },
  {
   "cell_type": "markdown",
   "metadata": {},
   "source": [
    "First we combine words that appear next to each other in texts and assign label to them"
   ]
  },
  {
   "cell_type": "code",
   "execution_count": 140,
   "metadata": {},
   "outputs": [
    {
     "data": {
      "text/html": [
       "<table>\n",
       "<thead><tr><th scope=col>bigram</th><th scope=col>n</th></tr></thead>\n",
       "<tbody>\n",
       "\t<tr><td>lt gt   </td><td>276     </td></tr>\n",
       "\t<tr><td>are you </td><td>178     </td></tr>\n",
       "\t<tr><td>i am    </td><td>140     </td></tr>\n",
       "\t<tr><td>have a  </td><td>132     </td></tr>\n",
       "\t<tr><td>you are </td><td>129     </td></tr>\n",
       "\t<tr><td>you have</td><td>118     </td></tr>\n",
       "\t<tr><td>do you  </td><td>109     </td></tr>\n",
       "\t<tr><td>i will  </td><td>105     </td></tr>\n",
       "\t<tr><td>in the  </td><td> 99     </td></tr>\n",
       "\t<tr><td>if you  </td><td> 96     </td></tr>\n",
       "\t<tr><td>i have  </td><td> 88     </td></tr>\n",
       "\t<tr><td>want to </td><td> 84     </td></tr>\n",
       "\t<tr><td>to be   </td><td> 83     </td></tr>\n",
       "\t<tr><td>will be </td><td> 83     </td></tr>\n",
       "\t<tr><td>i was   </td><td> 81     </td></tr>\n",
       "\t<tr><td>going to</td><td> 77     </td></tr>\n",
       "\t<tr><td>in a    </td><td> 76     </td></tr>\n",
       "\t<tr><td>to get  </td><td> 75     </td></tr>\n",
       "\t<tr><td>this is </td><td> 73     </td></tr>\n",
       "\t<tr><td>and i   </td><td> 72     </td></tr>\n",
       "\t<tr><td>but i   </td><td> 72     </td></tr>\n",
       "\t<tr><td>i can   </td><td> 72     </td></tr>\n",
       "\t<tr><td>have to </td><td> 70     </td></tr>\n",
       "\t<tr><td>if u    </td><td> 69     </td></tr>\n",
       "\t<tr><td>on the  </td><td> 66     </td></tr>\n",
       "\t<tr><td>for the </td><td> 62     </td></tr>\n",
       "\t<tr><td>you know</td><td> 61     </td></tr>\n",
       "\t<tr><td>need to </td><td> 60     </td></tr>\n",
       "\t<tr><td>you want</td><td> 60     </td></tr>\n",
       "\t<tr><td>call me </td><td> 59     </td></tr>\n",
       "\t<tr><td>...</td><td>...</td></tr>\n",
       "\t<tr><td>yup hey        </td><td>1              </td></tr>\n",
       "\t<tr><td>yup hopefully  </td><td>1              </td></tr>\n",
       "\t<tr><td>yup how        </td><td>1              </td></tr>\n",
       "\t<tr><td>yup i've       </td><td>1              </td></tr>\n",
       "\t<tr><td>yup it's       </td><td>1              </td></tr>\n",
       "\t<tr><td>yup izzit      </td><td>1              </td></tr>\n",
       "\t<tr><td>yup leaving    </td><td>1              </td></tr>\n",
       "\t<tr><td>yup n          </td><td>1              </td></tr>\n",
       "\t<tr><td>yup next       </td><td>1              </td></tr>\n",
       "\t<tr><td>yup not        </td><td>1              </td></tr>\n",
       "\t<tr><td>yup song       </td><td>1              </td></tr>\n",
       "\t<tr><td>yup thk        </td><td>1              </td></tr>\n",
       "\t<tr><td>yup we         </td><td>1              </td></tr>\n",
       "\t<tr><td>yup well       </td><td>1              </td></tr>\n",
       "\t<tr><td>yup wun        </td><td>1              </td></tr>\n",
       "\t<tr><td>yupz i've      </td><td>1              </td></tr>\n",
       "\t<tr><td>z will         </td><td>1              </td></tr>\n",
       "\t<tr><td>zac doesn't    </td><td>1              </td></tr>\n",
       "\t<tr><td>zaher's i      </td><td>1              </td></tr>\n",
       "\t<tr><td>zealand yes    </td><td>1              </td></tr>\n",
       "\t<tr><td>zebra animation</td><td>1              </td></tr>\n",
       "\t<tr><td>zed pobox      </td><td>1              </td></tr>\n",
       "\t<tr><td>zeros that     </td><td>1              </td></tr>\n",
       "\t<tr><td>zhong se       </td><td>1              </td></tr>\n",
       "\t<tr><td>zoe 18         </td><td>1              </td></tr>\n",
       "\t<tr><td>zoe it         </td><td>1              </td></tr>\n",
       "\t<tr><td>zogtorius i    </td><td>1              </td></tr>\n",
       "\t<tr><td>zoom to        </td><td>1              </td></tr>\n",
       "\t<tr><td>zouk with      </td><td>1              </td></tr>\n",
       "\t<tr><td>zyada kisi     </td><td>1              </td></tr>\n",
       "</tbody>\n",
       "</table>\n"
      ],
      "text/latex": [
       "\\begin{tabular}{r|ll}\n",
       " bigram & n\\\\\n",
       "\\hline\n",
       "\t lt gt    & 276     \\\\\n",
       "\t are you  & 178     \\\\\n",
       "\t i am     & 140     \\\\\n",
       "\t have a   & 132     \\\\\n",
       "\t you are  & 129     \\\\\n",
       "\t you have & 118     \\\\\n",
       "\t do you   & 109     \\\\\n",
       "\t i will   & 105     \\\\\n",
       "\t in the   &  99     \\\\\n",
       "\t if you   &  96     \\\\\n",
       "\t i have   &  88     \\\\\n",
       "\t want to  &  84     \\\\\n",
       "\t to be    &  83     \\\\\n",
       "\t will be  &  83     \\\\\n",
       "\t i was    &  81     \\\\\n",
       "\t going to &  77     \\\\\n",
       "\t in a     &  76     \\\\\n",
       "\t to get   &  75     \\\\\n",
       "\t this is  &  73     \\\\\n",
       "\t and i    &  72     \\\\\n",
       "\t but i    &  72     \\\\\n",
       "\t i can    &  72     \\\\\n",
       "\t have to  &  70     \\\\\n",
       "\t if u     &  69     \\\\\n",
       "\t on the   &  66     \\\\\n",
       "\t for the  &  62     \\\\\n",
       "\t you know &  61     \\\\\n",
       "\t need to  &  60     \\\\\n",
       "\t you want &  60     \\\\\n",
       "\t call me  &  59     \\\\\n",
       "\t ... & ...\\\\\n",
       "\t yup hey         & 1              \\\\\n",
       "\t yup hopefully   & 1              \\\\\n",
       "\t yup how         & 1              \\\\\n",
       "\t yup i've        & 1              \\\\\n",
       "\t yup it's        & 1              \\\\\n",
       "\t yup izzit       & 1              \\\\\n",
       "\t yup leaving     & 1              \\\\\n",
       "\t yup n           & 1              \\\\\n",
       "\t yup next        & 1              \\\\\n",
       "\t yup not         & 1              \\\\\n",
       "\t yup song        & 1              \\\\\n",
       "\t yup thk         & 1              \\\\\n",
       "\t yup we          & 1              \\\\\n",
       "\t yup well        & 1              \\\\\n",
       "\t yup wun         & 1              \\\\\n",
       "\t yupz i've       & 1              \\\\\n",
       "\t z will          & 1              \\\\\n",
       "\t zac doesn't     & 1              \\\\\n",
       "\t zaher's i       & 1              \\\\\n",
       "\t zealand yes     & 1              \\\\\n",
       "\t zebra animation & 1              \\\\\n",
       "\t zed pobox       & 1              \\\\\n",
       "\t zeros that      & 1              \\\\\n",
       "\t zhong se        & 1              \\\\\n",
       "\t zoe 18          & 1              \\\\\n",
       "\t zoe it          & 1              \\\\\n",
       "\t zogtorius i     & 1              \\\\\n",
       "\t zoom to         & 1              \\\\\n",
       "\t zouk with       & 1              \\\\\n",
       "\t zyada kisi      & 1              \\\\\n",
       "\\end{tabular}\n"
      ],
      "text/markdown": [
       "\n",
       "bigram | n | \n",
       "|---|---|---|---|---|---|---|---|---|---|---|---|---|---|---|---|---|---|---|---|---|---|---|---|---|---|---|---|---|---|---|---|---|---|---|---|---|---|---|---|---|---|---|---|---|---|---|---|---|---|---|---|---|---|---|---|---|---|---|---|---|\n",
       "| lt gt    | 276      | \n",
       "| are you  | 178      | \n",
       "| i am     | 140      | \n",
       "| have a   | 132      | \n",
       "| you are  | 129      | \n",
       "| you have | 118      | \n",
       "| do you   | 109      | \n",
       "| i will   | 105      | \n",
       "| in the   |  99      | \n",
       "| if you   |  96      | \n",
       "| i have   |  88      | \n",
       "| want to  |  84      | \n",
       "| to be    |  83      | \n",
       "| will be  |  83      | \n",
       "| i was    |  81      | \n",
       "| going to |  77      | \n",
       "| in a     |  76      | \n",
       "| to get   |  75      | \n",
       "| this is  |  73      | \n",
       "| and i    |  72      | \n",
       "| but i    |  72      | \n",
       "| i can    |  72      | \n",
       "| have to  |  70      | \n",
       "| if u     |  69      | \n",
       "| on the   |  66      | \n",
       "| for the  |  62      | \n",
       "| you know |  61      | \n",
       "| need to  |  60      | \n",
       "| you want |  60      | \n",
       "| call me  |  59      | \n",
       "| ... | ... | \n",
       "| yup hey         | 1               | \n",
       "| yup hopefully   | 1               | \n",
       "| yup how         | 1               | \n",
       "| yup i've        | 1               | \n",
       "| yup it's        | 1               | \n",
       "| yup izzit       | 1               | \n",
       "| yup leaving     | 1               | \n",
       "| yup n           | 1               | \n",
       "| yup next        | 1               | \n",
       "| yup not         | 1               | \n",
       "| yup song        | 1               | \n",
       "| yup thk         | 1               | \n",
       "| yup we          | 1               | \n",
       "| yup well        | 1               | \n",
       "| yup wun         | 1               | \n",
       "| yupz i've       | 1               | \n",
       "| z will          | 1               | \n",
       "| zac doesn't     | 1               | \n",
       "| zaher's i       | 1               | \n",
       "| zealand yes     | 1               | \n",
       "| zebra animation | 1               | \n",
       "| zed pobox       | 1               | \n",
       "| zeros that      | 1               | \n",
       "| zhong se        | 1               | \n",
       "| zoe 18          | 1               | \n",
       "| zoe it          | 1               | \n",
       "| zogtorius i     | 1               | \n",
       "| zoom to         | 1               | \n",
       "| zouk with       | 1               | \n",
       "| zyada kisi      | 1               | \n",
       "\n",
       "\n"
      ],
      "text/plain": [
       "      bigram          n  \n",
       "1     lt gt           276\n",
       "2     are you         178\n",
       "3     i am            140\n",
       "4     have a          132\n",
       "5     you are         129\n",
       "6     you have        118\n",
       "7     do you          109\n",
       "8     i will          105\n",
       "9     in the           99\n",
       "10    if you           96\n",
       "11    i have           88\n",
       "12    want to          84\n",
       "13    to be            83\n",
       "14    will be          83\n",
       "15    i was            81\n",
       "16    going to         77\n",
       "17    in a             76\n",
       "18    to get           75\n",
       "19    this is          73\n",
       "20    and i            72\n",
       "21    but i            72\n",
       "22    i can            72\n",
       "23    have to          70\n",
       "24    if u             69\n",
       "25    on the           66\n",
       "26    for the          62\n",
       "27    you know         61\n",
       "28    need to          60\n",
       "29    you want         60\n",
       "30    call me          59\n",
       "...   ...             ...\n",
       "47618 yup hey         1  \n",
       "47619 yup hopefully   1  \n",
       "47620 yup how         1  \n",
       "47621 yup i've        1  \n",
       "47622 yup it's        1  \n",
       "47623 yup izzit       1  \n",
       "47624 yup leaving     1  \n",
       "47625 yup n           1  \n",
       "47626 yup next        1  \n",
       "47627 yup not         1  \n",
       "47628 yup song        1  \n",
       "47629 yup thk         1  \n",
       "47630 yup we          1  \n",
       "47631 yup well        1  \n",
       "47632 yup wun         1  \n",
       "47633 yupz i've       1  \n",
       "47634 z will          1  \n",
       "47635 zac doesn't     1  \n",
       "47636 zaher's i       1  \n",
       "47637 zealand yes     1  \n",
       "47638 zebra animation 1  \n",
       "47639 zed pobox       1  \n",
       "47640 zeros that      1  \n",
       "47641 zhong se        1  \n",
       "47642 zoe 18          1  \n",
       "47643 zoe it          1  \n",
       "47644 zogtorius i     1  \n",
       "47645 zoom to         1  \n",
       "47646 zouk with       1  \n",
       "47647 zyada kisi      1  "
      ]
     },
     "metadata": {},
     "output_type": "display_data"
    }
   ],
   "source": [
    "msg_bigrams <- df %>%\n",
    "  unnest_tokens(bigram, msg, token = \"ngrams\", n =2)\n",
    "\n",
    "msg_bigrams %>%\n",
    "  count(bigram, sort=T)"
   ]
  },
  {
   "cell_type": "markdown",
   "metadata": {},
   "source": [
    "We need to activate few more libraries here:"
   ]
  },
  {
   "cell_type": "code",
   "execution_count": 141,
   "metadata": {},
   "outputs": [],
   "source": [
    "library(tidyr)\n",
    "library(stopwords)"
   ]
  },
  {
   "cell_type": "markdown",
   "metadata": {},
   "source": [
    "Let's filter out those stopwords, that are presented in stopwords-package:"
   ]
  },
  {
   "cell_type": "code",
   "execution_count": 142,
   "metadata": {},
   "outputs": [],
   "source": [
    "bigrams_separated <- msg_bigrams %>%\n",
    "  separate(bigram, c(\"word1\", \"word2\"), sep = \" \")\n",
    "\n",
    "\n",
    "bigrams_filtered <- bigrams_separated %>%\n",
    "  filter(!word1 %in% stop_words$word) %>%\n",
    "  filter(!word2 %in% stop_words$word)"
   ]
  },
  {
   "cell_type": "markdown",
   "metadata": {},
   "source": [
    "Here we combine separate filtered word lists (for word1 and word2 lists)."
   ]
  },
  {
   "cell_type": "code",
   "execution_count": 144,
   "metadata": {},
   "outputs": [
    {
     "data": {
      "text/html": [
       "<table>\n",
       "<thead><tr><th scope=col>word1</th><th scope=col>word2</th><th scope=col>n</th></tr></thead>\n",
       "<tbody>\n",
       "\t<tr><td>lt        </td><td>gt        </td><td>276       </td></tr>\n",
       "\t<tr><td>wan       </td><td>2         </td><td> 26       </td></tr>\n",
       "\t<tr><td>po        </td><td>box       </td><td> 25       </td></tr>\n",
       "\t<tr><td>1000      </td><td>cash      </td><td> 23       </td></tr>\n",
       "\t<tr><td>decimal   </td><td>gt        </td><td> 23       </td></tr>\n",
       "\t<tr><td>guaranteed</td><td>call      </td><td> 23       </td></tr>\n",
       "</tbody>\n",
       "</table>\n"
      ],
      "text/latex": [
       "\\begin{tabular}{r|lll}\n",
       " word1 & word2 & n\\\\\n",
       "\\hline\n",
       "\t lt         & gt         & 276       \\\\\n",
       "\t wan        & 2          &  26       \\\\\n",
       "\t po         & box        &  25       \\\\\n",
       "\t 1000       & cash       &  23       \\\\\n",
       "\t decimal    & gt         &  23       \\\\\n",
       "\t guaranteed & call       &  23       \\\\\n",
       "\\end{tabular}\n"
      ],
      "text/markdown": [
       "\n",
       "word1 | word2 | n | \n",
       "|---|---|---|---|---|---|\n",
       "| lt         | gt         | 276        | \n",
       "| wan        | 2          |  26        | \n",
       "| po         | box        |  25        | \n",
       "| 1000       | cash       |  23        | \n",
       "| decimal    | gt         |  23        | \n",
       "| guaranteed | call       |  23        | \n",
       "\n",
       "\n"
      ],
      "text/plain": [
       "  word1      word2 n  \n",
       "1 lt         gt    276\n",
       "2 wan        2      26\n",
       "3 po         box    25\n",
       "4 1000       cash   23\n",
       "5 decimal    gt     23\n",
       "6 guaranteed call   23"
      ]
     },
     "metadata": {},
     "output_type": "display_data"
    },
    {
     "data": {
      "text/html": [
       "<table>\n",
       "<thead><tr><th scope=col>label</th><th scope=col>bigram</th></tr></thead>\n",
       "<tbody>\n",
       "\t<tr><td>ham        </td><td>world la   </td></tr>\n",
       "\t<tr><td>ham        </td><td>buffet cine</td></tr>\n",
       "\t<tr><td>ham        </td><td>amore wat  </td></tr>\n",
       "\t<tr><td>ham        </td><td>lar joking </td></tr>\n",
       "\t<tr><td>ham        </td><td>joking wif </td></tr>\n",
       "\t<tr><td>ham        </td><td>aids patent</td></tr>\n",
       "</tbody>\n",
       "</table>\n"
      ],
      "text/latex": [
       "\\begin{tabular}{r|ll}\n",
       " label & bigram\\\\\n",
       "\\hline\n",
       "\t ham         & world la   \\\\\n",
       "\t ham         & buffet cine\\\\\n",
       "\t ham         & amore wat  \\\\\n",
       "\t ham         & lar joking \\\\\n",
       "\t ham         & joking wif \\\\\n",
       "\t ham         & aids patent\\\\\n",
       "\\end{tabular}\n"
      ],
      "text/markdown": [
       "\n",
       "label | bigram | \n",
       "|---|---|---|---|---|---|\n",
       "| ham         | world la    | \n",
       "| ham         | buffet cine | \n",
       "| ham         | amore wat   | \n",
       "| ham         | lar joking  | \n",
       "| ham         | joking wif  | \n",
       "| ham         | aids patent | \n",
       "\n",
       "\n"
      ],
      "text/plain": [
       "  label bigram     \n",
       "1 ham   world la   \n",
       "2 ham   buffet cine\n",
       "3 ham   amore wat  \n",
       "4 ham   lar joking \n",
       "5 ham   joking wif \n",
       "6 ham   aids patent"
      ]
     },
     "metadata": {},
     "output_type": "display_data"
    }
   ],
   "source": [
    "#New bigram counts:\n",
    "bigram_counts <- bigrams_filtered %>%\n",
    "  count(word1, word2, sort = T)\n",
    "\n",
    "head(bigram_counts)\n",
    "\n",
    "bigrams_united <- bigrams_filtered %>%\n",
    "  unite(bigram, word1, word2, sep = \" \")\n",
    "\n",
    "head(bigrams_united)"
   ]
  },
  {
   "cell_type": "markdown",
   "metadata": {},
   "source": [
    "Now we create Bag of Words model a.k.a TF-IDF matrix:"
   ]
  },
  {
   "cell_type": "code",
   "execution_count": 146,
   "metadata": {},
   "outputs": [
    {
     "data": {
      "text/html": [
       "<table>\n",
       "<thead><tr><th scope=col>label</th><th scope=col>bigram</th><th scope=col>n</th><th scope=col>tf</th><th scope=col>idf</th><th scope=col>tf_idf</th></tr></thead>\n",
       "<tbody>\n",
       "\t<tr><td>ham             </td><td>lt gt           </td><td>276             </td><td>0.026408956     </td><td>0.6931472       </td><td>0.018305293     </td></tr>\n",
       "\t<tr><td>spam            </td><td>1000 cash       </td><td> 23             </td><td>0.003113578     </td><td>0.6931472       </td><td>0.002158168     </td></tr>\n",
       "\t<tr><td>spam            </td><td>guaranteed call </td><td> 23             </td><td>0.003113578     </td><td>0.6931472       </td><td>0.002158168     </td></tr>\n",
       "\t<tr><td>spam            </td><td>prize guaranteed</td><td> 22             </td><td>0.002978205     </td><td>0.6931472       </td><td>0.002064334     </td></tr>\n",
       "\t<tr><td>spam            </td><td>national rate   </td><td> 20             </td><td>0.002707459     </td><td>0.6931472       </td><td>0.001876668     </td></tr>\n",
       "\t<tr><td>spam            </td><td>await collection</td><td> 19             </td><td>0.002572086     </td><td>0.6931472       </td><td>0.001782834     </td></tr>\n",
       "</tbody>\n",
       "</table>\n"
      ],
      "text/latex": [
       "\\begin{tabular}{r|llllll}\n",
       " label & bigram & n & tf & idf & tf\\_idf\\\\\n",
       "\\hline\n",
       "\t ham              & lt gt            & 276              & 0.026408956      & 0.6931472        & 0.018305293     \\\\\n",
       "\t spam             & 1000 cash        &  23              & 0.003113578      & 0.6931472        & 0.002158168     \\\\\n",
       "\t spam             & guaranteed call  &  23              & 0.003113578      & 0.6931472        & 0.002158168     \\\\\n",
       "\t spam             & prize guaranteed &  22              & 0.002978205      & 0.6931472        & 0.002064334     \\\\\n",
       "\t spam             & national rate    &  20              & 0.002707459      & 0.6931472        & 0.001876668     \\\\\n",
       "\t spam             & await collection &  19              & 0.002572086      & 0.6931472        & 0.001782834     \\\\\n",
       "\\end{tabular}\n"
      ],
      "text/markdown": [
       "\n",
       "label | bigram | n | tf | idf | tf_idf | \n",
       "|---|---|---|---|---|---|\n",
       "| ham              | lt gt            | 276              | 0.026408956      | 0.6931472        | 0.018305293      | \n",
       "| spam             | 1000 cash        |  23              | 0.003113578      | 0.6931472        | 0.002158168      | \n",
       "| spam             | guaranteed call  |  23              | 0.003113578      | 0.6931472        | 0.002158168      | \n",
       "| spam             | prize guaranteed |  22              | 0.002978205      | 0.6931472        | 0.002064334      | \n",
       "| spam             | national rate    |  20              | 0.002707459      | 0.6931472        | 0.001876668      | \n",
       "| spam             | await collection |  19              | 0.002572086      | 0.6931472        | 0.001782834      | \n",
       "\n",
       "\n"
      ],
      "text/plain": [
       "  label bigram           n   tf          idf       tf_idf     \n",
       "1 ham   lt gt            276 0.026408956 0.6931472 0.018305293\n",
       "2 spam  1000 cash         23 0.003113578 0.6931472 0.002158168\n",
       "3 spam  guaranteed call   23 0.003113578 0.6931472 0.002158168\n",
       "4 spam  prize guaranteed  22 0.002978205 0.6931472 0.002064334\n",
       "5 spam  national rate     20 0.002707459 0.6931472 0.001876668\n",
       "6 spam  await collection  19 0.002572086 0.6931472 0.001782834"
      ]
     },
     "metadata": {},
     "output_type": "display_data"
    }
   ],
   "source": [
    "#Bag of words model --> tf-idf:\n",
    "bigram_tf_idf <- bigrams_united %>%\n",
    "  count(label, bigram) %>%\n",
    "  bind_tf_idf(bigram, label, n) %>%\n",
    "  arrange(desc(tf_idf))\n",
    "\n",
    "head(bigram_tf_idf)"
   ]
  },
  {
   "cell_type": "code",
   "execution_count": 153,
   "metadata": {},
   "outputs": [],
   "source": [
    "library(igraph) #needed for visualization"
   ]
  },
  {
   "cell_type": "markdown",
   "metadata": {},
   "source": [
    "Next we filter common combinations so that we see in our graphs only bigrams that appear more than 15 times in this corpus:"
   ]
  },
  {
   "cell_type": "code",
   "execution_count": 154,
   "metadata": {},
   "outputs": [],
   "source": [
    "#Filter common combinations:\n",
    "bigram_graph <- bigram_counts %>%\n",
    "  filter(n > 15) %>%\n",
    "  graph_from_data_frame()"
   ]
  },
  {
   "cell_type": "markdown",
   "metadata": {},
   "source": [
    "Let's plot this out, rough version:"
   ]
  },
  {
   "cell_type": "code",
   "execution_count": 155,
   "metadata": {},
   "outputs": [
    {
     "data": {},
     "metadata": {},
     "output_type": "display_data"
    },
    {
     "data": {
      "image/png": "[encoded data removed]",
      "text/plain": [
       "plot without title"
      ]
     },
     "metadata": {},
     "output_type": "display_data"
    }
   ],
   "source": [
    "set.seed(101)\n",
    "ggraph(bigram_graph, layout = 'fr') + \n",
    "  geom_edge_link() +\n",
    "  geom_node_point() +\n",
    "  geom_node_text(aes(label = name), vjust = 1, hjust = 1)"
   ]
  },
  {
   "cell_type": "markdown",
   "metadata": {},
   "source": [
    "And more sophisticated version:"
   ]
  },
  {
   "cell_type": "code",
   "execution_count": 156,
   "metadata": {},
   "outputs": [
    {
     "data": {},
     "metadata": {},
     "output_type": "display_data"
    },
    {
     "data": {
      "image/png": "[encoded data removed]",
      "text/plain": [
       "plot without title"
      ]
     },
     "metadata": {},
     "output_type": "display_data"
    }
   ],
   "source": [
    "set.seed(102)\n",
    "a <- grid::arrow(type = \"closed\", length = unit(.15, \"inches\"))\n",
    "\n",
    "ggraph(bigram_graph, layout = \"fr\") +\n",
    "  geom_edge_link(aes(edge_alpha = n), show.legend = FALSE,\n",
    "                 arrow = a, end_cap = circle(.07, 'inches')) +\n",
    "  geom_node_point(color = \"lightblue\", size = 5) +\n",
    "  geom_node_text(aes(label = name), vjust = 1, hjust = 1) +\n",
    "  theme_void()"
   ]
  },
  {
   "cell_type": "markdown",
   "metadata": {},
   "source": [
    "How to interpret this figure? Here we see the most common bigrams visualized. Arrow tell us how they appear in text; tip of the arrow points the the last word in bigrams. The darker the arrow is, more often bigram appears in corpus. For example lt gt is the most common bigram in this spam/ham dataset."
   ]
  },
  {
   "cell_type": "markdown",
   "metadata": {},
   "source": [
    "## Thanks for following through this EDA section of text analysis. I hope you had fun and you learned something new along the way. Now go ahead and analyze your own datasets and have fun doing that!"
   ]
  },
  {
   "cell_type": "code",
   "execution_count": null,
   "metadata": {},
   "outputs": [],
   "source": []
  }
 ],
 "metadata": {
  "kernelspec": {
   "display_name": "R 3.5",
   "language": "R",
   "name": "ir35"
  },
  "language_info": {
   "codemirror_mode": "r",
   "file_extension": ".r",
   "mimetype": "text/x-r-source",
   "name": "R",
   "pygments_lexer": "r",
   "version": "3.5.0"
  }
 },
 "nbformat": 4,
 "nbformat_minor": 2
}
